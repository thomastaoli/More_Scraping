{
 "cells": [
  {
   "cell_type": "markdown",
   "metadata": {},
   "source": [
    "# Texas Tow Trucks\n",
    "\n",
    "We're going to scrape some [tow trucks in Texas](https://www.tdlr.texas.gov/tools_search/). "
   ]
  },
  {
   "cell_type": "markdown",
   "metadata": {},
   "source": [
    "# Part One: Building a company list\n",
    "\n",
    "Search for businesses with the word **WRECK** in their names.\n",
    "\n",
    "* **Tip:** Start by scraping the first page to a dataframe, then expand to a loop that combines all of the pages. Finally combine all of the dataframes with `pd.concat`. You might find [this page helpful](https://jonathansoma.com/everything/scraping/pagination/), although the \"On an interactive site\" example uses Selenium instead of Playwright. You should be able to figure out how to change it!\n",
    "* **Tip:** You can't just do a `try`/`except`, because even if you ask for page 99999 it will always give you the last page again! Watch out that you don't get stuck in an infinite loop!"
   ]
  },
  {
   "cell_type": "code",
   "execution_count": 48,
   "metadata": {},
   "outputs": [],
   "source": [
    "import re\n",
    "from bs4 import BeautifulSoup\n",
    "from playwright.async_api import async_playwright"
   ]
  },
  {
   "cell_type": "code",
   "execution_count": 49,
   "metadata": {},
   "outputs": [],
   "source": [
    "import pandas as pd"
   ]
  },
  {
   "cell_type": "code",
   "execution_count": 50,
   "metadata": {},
   "outputs": [],
   "source": [
    "import csv"
   ]
  },
  {
   "cell_type": "code",
   "execution_count": 182,
   "metadata": {},
   "outputs": [],
   "source": [
    "import asyncio"
   ]
  },
  {
   "cell_type": "code",
   "execution_count": 51,
   "metadata": {},
   "outputs": [],
   "source": [
    "playwright = await async_playwright().start()\n",
    "browser = await playwright.chromium.launch(headless = False)\n",
    "page = await browser.new_page()"
   ]
  },
  {
   "cell_type": "code",
   "execution_count": 20,
   "metadata": {},
   "outputs": [
    {
     "data": {
      "text/plain": [
       "<Response url='https://www.tdlr.texas.gov/tools_search/' request=<Request url='https://www.tdlr.texas.gov/tools_search/' method='GET'>>"
      ]
     },
     "execution_count": 20,
     "metadata": {},
     "output_type": "execute_result"
    }
   ],
   "source": [
    "await page.goto(\"https://www.tdlr.texas.gov/tools_search/\")"
   ]
  },
  {
   "cell_type": "code",
   "execution_count": 21,
   "metadata": {},
   "outputs": [],
   "source": [
    "await page.locator(\"#namebutton\").click()"
   ]
  },
  {
   "cell_type": "code",
   "execution_count": 22,
   "metadata": {},
   "outputs": [],
   "source": [
    "await page.locator(\"#namedata\").fill(\"WRECK\")"
   ]
  },
  {
   "cell_type": "code",
   "execution_count": 23,
   "metadata": {},
   "outputs": [],
   "source": [
    "await page.locator(\"#submit3\").click()"
   ]
  },
  {
   "cell_type": "code",
   "execution_count": 41,
   "metadata": {},
   "outputs": [],
   "source": [
    "with open('WRECK.csv', 'w', newline='', encoding='utf-8') as file:\n",
    "    writer = csv.writer(file)\n",
    "    page_num = 1\n",
    "\n",
    "    for page_num in range(1, 42):\n",
    "        html = await page.content()\n",
    "        doc = BeautifulSoup(html, 'html.parser')  # Specify parser\n",
    "        table = doc.select('tbody')[2]\n",
    "        table_rows = table.find_all('tr')\n",
    "\n",
    "        for row in table_rows:\n",
    "            cols = [ele.text.strip() for ele in row.find_all('td')]\n",
    "            writer.writerow(cols)\n",
    "\n",
    "        if page_num < 41:\n",
    "            next_button_selector = 'a[href*=\"mccs_search_process.asp?page=\"]:text(\"[Next >>]\")'\n",
    "            await page.wait_for_selector(next_button_selector, state=\"visible\")\n",
    "            await page.click(next_button_selector, timeout=60000)\n"
   ]
  },
  {
   "cell_type": "markdown",
   "metadata": {},
   "source": [
    "### Cleanup\n",
    "\n",
    "If you haven't already, rename the columns to be:\n",
    "    \n",
    "    * Customer\n",
    "    * DBA Name\n",
    "    * TDLR Number\n",
    "    * City\n",
    "    * State\n",
    "    * Zip code\n",
    "\n",
    "and remove all of the rows where the customer name is `Customer`."
   ]
  },
  {
   "cell_type": "code",
   "execution_count": 44,
   "metadata": {},
   "outputs": [],
   "source": [
    "df = pd.read_csv('WRECK.csv')"
   ]
  },
  {
   "cell_type": "code",
   "execution_count": 46,
   "metadata": {},
   "outputs": [],
   "source": [
    "df = df[df['Customer'] != 'Customer']\n",
    "df.to_csv('wreckers.csv', index=False)"
   ]
  },
  {
   "cell_type": "markdown",
   "metadata": {},
   "source": [
    "## Save as `wreckers.csv`"
   ]
  },
  {
   "cell_type": "markdown",
   "metadata": {},
   "source": [
    "# Part Two: Company info\n",
    "\n",
    "> You can use whatever tool you'd like for this, but form submission doesn't necessarily mean Playwright! If you want to go the `requests` route instead, feel free to [look at this page](https://jonathansoma.com/everything/scraping/pretending-to-be-a-browser/) about several ways to pretend to be a browser.\n",
    "\n",
    "## Step 1: Scraping one page\n",
    "\n",
    "Try searching from the [tools page](https://www.tdlr.texas.gov/tools_search/) for the TDLR Number `006556161C`. From the results page, scrape the:\n",
    "\n",
    "* Business name\n",
    "* Phone number\n",
    "* License status\n",
    "* Physical address\n",
    "\n",
    "And save the results into a dictionary. Also include `TDLR Number` in the dictionary. **Print the dictionary**.\n",
    "\n",
    "> ***Tip:** It's best if each item has its own key, but **it's fine to pull \"larger\" sections of the page and split them up in pandas later on***\n",
    ">\n",
    "> ***Tip:** Be sure you don't forget to include `TDLR Number` in the dictionary!*"
   ]
  },
  {
   "cell_type": "code",
   "execution_count": 154,
   "metadata": {},
   "outputs": [
    {
     "data": {
      "text/plain": [
       "<Response url='https://www.tdlr.texas.gov/tools_search/' request=<Request url='https://www.tdlr.texas.gov/tools_search/' method='GET'>>"
      ]
     },
     "execution_count": 154,
     "metadata": {},
     "output_type": "execute_result"
    }
   ],
   "source": [
    "await page.goto(\"https://www.tdlr.texas.gov/tools_search/\")"
   ]
  },
  {
   "cell_type": "code",
   "execution_count": 155,
   "metadata": {},
   "outputs": [],
   "source": [
    "await page.locator(\"#mcrbutton\").click()\n",
    "await page.locator(\"#mcrdata\").fill(\"006556161C\")\n",
    "await page.locator(\"#submit3\").click()"
   ]
  },
  {
   "cell_type": "code",
   "execution_count": 156,
   "metadata": {},
   "outputs": [],
   "source": [
    "html = await page.content()\n",
    "soup = BeautifulSoup(html, 'html.parser')\n",
    "big_table = soup.find('table')\n",
    "small_table = big_table.find_all('table')[2]\n",
    "cer_table = big_table.find_all('table')[3]\n",
    "\n",
    "company_info = {\n",
    "    'TDLR_Number': '006556161C',\n",
    "    'name':small_table.find_all('td')[2].find('strong', string=lambda text: text and 'Name:' in text).next_sibling.strip(),\n",
    "    'number':small_table.find_all('td')[8].find('strong', string='Phone:').next_sibling.strip(),\n",
    "    'status':cer_table.find_all('td')[1].find_next('font').get_text(strip=True),\n",
    "    'cer_num':cer_table.find_all('td')[2].find('strong', string=lambda text: 'Number:' in text).find_next('b').get_text(strip=True)\n",
    "                                                        }"
   ]
  },
  {
   "cell_type": "code",
   "execution_count": 157,
   "metadata": {},
   "outputs": [
    {
     "data": {
      "text/plain": [
       "{'TDLR_Number': '006556161C',\n",
       " 'name': 'DIRTY SOUTH TRANSPORT AND RECOVERY, LLC',\n",
       " 'number': '713-259-5445',\n",
       " 'status': 'Active',\n",
       " 'cer_num': '006556161C'}"
      ]
     },
     "execution_count": 157,
     "metadata": {},
     "output_type": "execute_result"
    }
   ],
   "source": [
    "company_info"
   ]
  },
  {
   "cell_type": "markdown",
   "metadata": {},
   "source": [
    "## Step 2: Move into one cell\n",
    "\n",
    "Move the code above all into one cell that relies on the variable `tdlr_number`.\n",
    "\n",
    "Add the code below to the page and confirm that it displays the data for the correct result.\n",
    "\n",
    "```python\n",
    "tdlr_number = '0654479VSF'\n",
    "```\n",
    "\n",
    "Confirm that the information is correct. Did it not work out? Go back and edit your selectors, or be a little broader in the parts of the page you sweep up."
   ]
  },
  {
   "cell_type": "code",
   "execution_count": 176,
   "metadata": {},
   "outputs": [],
   "source": [
    "async def get_tdlr(tdlr_number):\n",
    "    async with async_playwright() as p:\n",
    "        browser = await p.chromium.launch()\n",
    "        page = await browser.new_page()\n",
    "        await page.goto(\"https://www.tdlr.texas.gov/tools_search/\")\n",
    "        await page.locator(\"#mcrbutton\").click()\n",
    "        await page.locator(\"#mcrdata\").fill(tdlr_number)\n",
    "        await page.locator(\"#submit3\").click()\n",
    "        html = await page.content()\n",
    "        soup = BeautifulSoup(html, 'html.parser')\n",
    "\n",
    "        company_info = {\n",
    "            'TDLR_Number': tdlr_number,\n",
    "            'name': soup.find('strong', string=lambda text: 'Name:' in text).next_sibling.strip(),\n",
    "            'number': soup.find('strong', string='Phone:').next_sibling.strip(),\n",
    "            'status': soup.find('strong', string='Status:').find_next('font').get_text(strip=True),\n",
    "        }\n",
    "        await browser.close()\n",
    "        return company_info"
   ]
  },
  {
   "cell_type": "code",
   "execution_count": 170,
   "metadata": {},
   "outputs": [
    {
     "data": {
      "text/plain": [
       "{'TDLR_Number': '006564940C',\n",
       " 'name': 'A&NTOWINGLLC',\n",
       " 'number': '2106678546',\n",
       " 'status': 'Active'}"
      ]
     },
     "execution_count": 170,
     "metadata": {},
     "output_type": "execute_result"
    }
   ],
   "source": [
    "await get_tdlr('006564940C')"
   ]
  },
  {
   "cell_type": "markdown",
   "metadata": {},
   "source": [
    "## Step 3: Scraping many pages\n",
    "\n",
    "Using pandas, read in `trucks-subset.csv`."
   ]
  },
  {
   "cell_type": "code",
   "execution_count": 166,
   "metadata": {},
   "outputs": [
    {
     "data": {
      "text/html": [
       "<div>\n",
       "<style scoped>\n",
       "    .dataframe tbody tr th:only-of-type {\n",
       "        vertical-align: middle;\n",
       "    }\n",
       "\n",
       "    .dataframe tbody tr th {\n",
       "        vertical-align: top;\n",
       "    }\n",
       "\n",
       "    .dataframe thead th {\n",
       "        text-align: right;\n",
       "    }\n",
       "</style>\n",
       "<table border=\"1\" class=\"dataframe\">\n",
       "  <thead>\n",
       "    <tr style=\"text-align: right;\">\n",
       "      <th></th>\n",
       "      <th>TDLR Number</th>\n",
       "    </tr>\n",
       "  </thead>\n",
       "  <tbody>\n",
       "    <tr>\n",
       "      <th>0</th>\n",
       "      <td>006565540C</td>\n",
       "    </tr>\n",
       "    <tr>\n",
       "      <th>1</th>\n",
       "      <td>0654479VSF</td>\n",
       "    </tr>\n",
       "    <tr>\n",
       "      <th>2</th>\n",
       "      <td>006564940C</td>\n",
       "    </tr>\n",
       "  </tbody>\n",
       "</table>\n",
       "</div>"
      ],
      "text/plain": [
       "  TDLR Number\n",
       "0  006565540C\n",
       "1  0654479VSF\n",
       "2  006564940C"
      ]
     },
     "execution_count": 166,
     "metadata": {},
     "output_type": "execute_result"
    }
   ],
   "source": [
    "pd.read_csv('trucks-subset.csv')"
   ]
  },
  {
   "cell_type": "markdown",
   "metadata": {},
   "source": [
    "## Scrape every single row, creating a list of dictionaries from the scraped data.\n",
    "\n",
    "You should never use for loops with pandas *except when working with Playwright*. To use loops in pandas you'll make use of `.iterrows()`.\n",
    "\n",
    "The code below loops through a dataframe called `df` and prints out the `address` column.\n",
    "\n",
    "```python\n",
    "for index, row in df.iterrows():\n",
    "    print(row['address'])\n",
    "```\n",
    "\n",
    "You'll adapt this code to use your dataframe, and combine it with the scraping code you wrote above.\n",
    "\n",
    "> ***Tip:** This is like what we did for the townships in class*"
   ]
  },
  {
   "cell_type": "code",
   "execution_count": 164,
   "metadata": {},
   "outputs": [],
   "source": [
    "df = pd.read_csv('trucks-subset.csv')"
   ]
  },
  {
   "cell_type": "code",
   "execution_count": 167,
   "metadata": {},
   "outputs": [
    {
     "data": {
      "text/html": [
       "<div>\n",
       "<style scoped>\n",
       "    .dataframe tbody tr th:only-of-type {\n",
       "        vertical-align: middle;\n",
       "    }\n",
       "\n",
       "    .dataframe tbody tr th {\n",
       "        vertical-align: top;\n",
       "    }\n",
       "\n",
       "    .dataframe thead th {\n",
       "        text-align: right;\n",
       "    }\n",
       "</style>\n",
       "<table border=\"1\" class=\"dataframe\">\n",
       "  <thead>\n",
       "    <tr style=\"text-align: right;\">\n",
       "      <th></th>\n",
       "      <th>TDLR Number</th>\n",
       "    </tr>\n",
       "  </thead>\n",
       "  <tbody>\n",
       "    <tr>\n",
       "      <th>0</th>\n",
       "      <td>006565540C</td>\n",
       "    </tr>\n",
       "    <tr>\n",
       "      <th>1</th>\n",
       "      <td>0654479VSF</td>\n",
       "    </tr>\n",
       "    <tr>\n",
       "      <th>2</th>\n",
       "      <td>006564940C</td>\n",
       "    </tr>\n",
       "  </tbody>\n",
       "</table>\n",
       "</div>"
      ],
      "text/plain": [
       "  TDLR Number\n",
       "0  006565540C\n",
       "1  0654479VSF\n",
       "2  006564940C"
      ]
     },
     "execution_count": 167,
     "metadata": {},
     "output_type": "execute_result"
    }
   ],
   "source": [
    "df.head()"
   ]
  },
  {
   "cell_type": "code",
   "execution_count": 186,
   "metadata": {},
   "outputs": [],
   "source": [
    "tdlr_numbers = df['TDLR Number'].tolist()"
   ]
  },
  {
   "cell_type": "code",
   "execution_count": 189,
   "metadata": {},
   "outputs": [],
   "source": [
    "company_list = []\n",
    "for number in tdlr_numbers:\n",
    "    company_list.append(await get_tdlr(number))"
   ]
  },
  {
   "cell_type": "code",
   "execution_count": 190,
   "metadata": {},
   "outputs": [
    {
     "data": {
      "text/plain": [
       "[{'TDLR_Number': '006565540C',\n",
       "  'name': 'H & A TOWING LLC',\n",
       "  'number': '512-999-8883',\n",
       "  'status': 'Expired'},\n",
       " {'TDLR_Number': '0654479VSF',\n",
       "  'name': '24/7TOWINGANDRECOVERYLLC',\n",
       "  'number': '4325576733',\n",
       "  'status': 'Active'},\n",
       " {'TDLR_Number': '006564940C',\n",
       "  'name': 'A&NTOWINGLLC',\n",
       "  'number': '2106678546',\n",
       "  'status': 'Active'}]"
      ]
     },
     "execution_count": 190,
     "metadata": {},
     "output_type": "execute_result"
    }
   ],
   "source": [
    "company_list"
   ]
  },
  {
   "cell_type": "markdown",
   "metadata": {},
   "source": [
    "## Save your dataframe as `data-uncleaned.csv`"
   ]
  },
  {
   "cell_type": "code",
   "execution_count": 191,
   "metadata": {},
   "outputs": [],
   "source": [
    "df = pd.DataFrame(company_list)\n",
    "df.to_csv('data-uncleaned.csv')"
   ]
  },
  {
   "cell_type": "markdown",
   "metadata": {},
   "source": [
    "# Cleaning your data\n",
    "\n",
    "## Re-open the `data-uncleaned.csv` file\n",
    "\n",
    "You probably want to set `pd.options.display.max_colwidth`"
   ]
  },
  {
   "cell_type": "markdown",
   "metadata": {},
   "source": [
    "## Clean it up!\n",
    "\n",
    "Make sure there are columns for\n",
    "\n",
    "- Business name\n",
    "- Phone number\n",
    "- License status\n",
    "- Physical address\n",
    "\n",
    "And drop all of the other columns (The easiest way is to use `df = df.drop(columns=[...])`)"
   ]
  },
  {
   "cell_type": "markdown",
   "metadata": {},
   "source": [
    "## Combine with the original CSV file\n",
    "\n",
    "To combine dataframes based on indexes, you use `df.join(other_df)`. If you'd prefer to match by columns, you could also use `df.merge(other_df, left_on='...', right_on='...')` and tell it the two columns that match between the two."
   ]
  },
  {
   "cell_type": "markdown",
   "metadata": {},
   "source": [
    "### Save to a CSV"
   ]
  },
  {
   "cell_type": "code",
   "execution_count": null,
   "metadata": {},
   "outputs": [],
   "source": []
  }
 ],
 "metadata": {
  "kernelspec": {
   "display_name": "Python 3 (ipykernel)",
   "language": "python",
   "name": "python3"
  },
  "language_info": {
   "codemirror_mode": {
    "name": "ipython",
    "version": 3
   },
   "file_extension": ".py",
   "mimetype": "text/x-python",
   "name": "python",
   "nbconvert_exporter": "python",
   "pygments_lexer": "ipython3",
   "version": "3.11.6"
  }
 },
 "nbformat": 4,
 "nbformat_minor": 4
}
